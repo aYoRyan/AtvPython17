{
 "cells": [
  {
   "cell_type": "code",
   "execution_count": 1,
   "metadata": {},
   "outputs": [
    {
     "name": "stdout",
     "output_type": "stream",
     "text": [
      "Olá, mundo.\n"
     ]
    }
   ],
   "source": [
    "    # 1-Faça um Programa que mostre a mensagem \"Alo mundo\" na tela.\n",
    "\n",
    "# print(\"Olá, mundo.\");\n",
    "\n"
   ]
  }
 ],
 "metadata": {
  "interpreter": {
   "hash": "10d42a17c5585e6c12ff4103b4f9479046ed354559f538b222184687d001fcb6"
  },
  "kernelspec": {
   "display_name": "Python 3.11.4 64-bit",
   "language": "python",
   "name": "python3"
  },
  "language_info": {
   "codemirror_mode": {
    "name": "ipython",
    "version": 3
   },
   "file_extension": ".py",
   "mimetype": "text/x-python",
   "name": "python",
   "nbconvert_exporter": "python",
   "pygments_lexer": "ipython3",
   "version": "3.11.4"
  },
  "orig_nbformat": 4
 },
 "nbformat": 4,
 "nbformat_minor": 2
}
